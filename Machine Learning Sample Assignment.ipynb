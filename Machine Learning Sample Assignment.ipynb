{
 "cells": [
  {
   "cell_type": "markdown",
   "metadata": {},
   "source": [
    "# Assignment 8"
   ]
  },
  {
   "cell_type": "markdown",
   "metadata": {},
   "source": [
    "In this assignment, you will build a multi-class recurrent neural network classifier for text classification. You will first need to import the libraries. Then you will need to pre-process your data by removing stop words and stemming. After cleaning the data, you will download a pretrained word embedding and use the embedding to give each word a vector. The vectors will be the features of your classifier. You will split your data into training (80%) and validation (20%). Then, you will train your neural network and find the best model using random search, and test it and your testing data."
   ]
  },
  {
   "cell_type": "markdown",
   "metadata": {},
   "source": [
    "## Import Libraries"
   ]
  },
  {
   "cell_type": "code",
   "execution_count": 1,
   "metadata": {},
   "outputs": [
    {
     "name": "stderr",
     "output_type": "stream",
     "text": [
      "C:\\Users\\mahdi\\Anaconda3\\lib\\site-packages\\h5py\\__init__.py:36: FutureWarning: Conversion of the second argument of issubdtype from `float` to `np.floating` is deprecated. In future, it will be treated as `np.float64 == np.dtype(float).type`.\n",
      "  from ._conv import register_converters as _register_converters\n",
      "Using TensorFlow backend.\n"
     ]
    }
   ],
   "source": [
    "'''implement your code'''\n",
    "import keras\n",
    "import sklearn\n",
    "import csv"
   ]
  },
  {
   "cell_type": "markdown",
   "metadata": {},
   "source": [
    "## Load Data"
   ]
  },
  {
   "cell_type": "code",
   "execution_count": 2,
   "metadata": {},
   "outputs": [],
   "source": [
    "'''implement your code'''\n",
    "tid = []\n",
    "tweets = []\n",
    "labels = []\n",
    "with open('training.csv', encoding='latin1', newline='') as csvfile:\n",
    "    for rec in csv.reader(csvfile, delimiter=','):\n",
    "        tid.append(int(rec[0][1:-1]))\n",
    "        tweets.append(rec[1])\n",
    "        if(rec[2] == 'caution and advice'):\n",
    "            labels.append(0)\n",
    "        elif(rec[2] == 'infromation source'):\n",
    "            labels.append(1)\n",
    "        elif(rec[2] == 'casualities and damage'):\n",
    "            labels.append(-1)\n",
    "        else:\n",
    "            labels.append(2)"
   ]
  },
  {
   "cell_type": "markdown",
   "metadata": {},
   "source": [
    "## Clean Data"
   ]
  },
  {
   "cell_type": "markdown",
   "metadata": {},
   "source": [
    " Pre-process your data by removing stop words and perform stemming."
   ]
  },
  {
   "cell_type": "code",
   "execution_count": 3,
   "metadata": {},
   "outputs": [
    {
     "name": "stdout",
     "output_type": "stream",
     "text": [
      "Found 4427 unique tokens.\n",
      "Shape of data tensor: (1059, 45)\n",
      "Shape of label tensor: (1059, 3)\n"
     ]
    }
   ],
   "source": [
    "from keras.preprocessing.text import Tokenizer\n",
    "from keras.preprocessing.sequence import pad_sequences\n",
    "from keras.utils.np_utils import to_categorical\n",
    "import numpy as np\n",
    "\n",
    "tokenizer = Tokenizer()\n",
    "tokenizer.fit_on_texts(tweets)\n",
    "sequences = tokenizer.texts_to_sequences(tweets)\n",
    "\n",
    "word_index = tokenizer.word_index\n",
    "print('Found %s unique tokens.' % len(word_index))\n",
    "\n",
    "data = pad_sequences(sequences)\n",
    "\n",
    "labels = to_categorical(np.asarray(labels))\n",
    "print('Shape of data tensor:', data.shape)\n",
    "print('Shape of label tensor:', labels.shape)\n",
    "\n",
    "# split the data into a training set and a validation set\n",
    "indices = np.arange(data.shape[0])\n",
    "np.random.shuffle(indices)\n",
    "data = data[indices]\n",
    "labels = labels[indices]"
   ]
  },
  {
   "cell_type": "markdown",
   "metadata": {},
   "source": [
    "## Word Embedding"
   ]
  },
  {
   "cell_type": "markdown",
   "metadata": {},
   "source": [
    "Download the word embedding from this link http://nlp.stanford.edu/data/glove.twitter.27B.zip and create the embedding matrix to be used in the embedding layer. You have to use the embedding file of dimension 50."
   ]
  },
  {
   "cell_type": "code",
   "execution_count": 4,
   "metadata": {},
   "outputs": [
    {
     "name": "stdout",
     "output_type": "stream",
     "text": [
      "Found 1193514 word vectors.\n"
     ]
    }
   ],
   "source": [
    "embeddings_index = {}\n",
    "f = open('glove.twitter.27B.50d.txt', encoding = 'utf8')\n",
    "for line in f:\n",
    "    values = line.split()\n",
    "    word = values[0]\n",
    "    coefs = np.asarray(values[1:], dtype='float32')\n",
    "    embeddings_index[word] = coefs\n",
    "f.close()\n",
    "\n",
    "print('Found %s word vectors.' % len(embeddings_index))\n",
    "embedding_matrix = np.zeros((len(word_index) + 1, 50))\n",
    "for word, i in word_index.items():\n",
    "    embedding_vector = embeddings_index.get(word)\n",
    "    if embedding_vector is not None:\n",
    "        # words not found in embedding index will be all-zeros.\n",
    "        embedding_matrix[i] = embedding_vector"
   ]
  },
  {
   "cell_type": "markdown",
   "metadata": {},
   "source": [
    "## Split Data"
   ]
  },
  {
   "cell_type": "markdown",
   "metadata": {},
   "source": [
    "Split your data into training (80%) and validation (20%)."
   ]
  },
  {
   "cell_type": "code",
   "execution_count": 5,
   "metadata": {},
   "outputs": [],
   "source": [
    "nb_validation_samples = int(0.8 * data.shape[0])\n",
    "\n",
    "x_train = data[:-nb_validation_samples]\n",
    "y_train = labels[:-nb_validation_samples]\n",
    "x_val = data[-nb_validation_samples:]\n",
    "y_val = labels[-nb_validation_samples:]"
   ]
  },
  {
   "cell_type": "markdown",
   "metadata": {},
   "source": [
    "## Exercise 1"
   ]
  },
  {
   "cell_type": "markdown",
   "metadata": {},
   "source": [
    "You will train a recurrent neural network for 100 epochs with a batch size of 32 without doing any hyperameters tuning.\n",
    "\n",
    "The architecture should be as follow:\n",
    "- One embedding layer ( You don't need to retrain the embeddings. You have to use the pretrained embeddings)\n",
    "- One LSTM layer with 200 units\n",
    "- One Dense Layer with 100 units\n",
    "- One output layer\n",
    "- The activation of the Dense layer is a Relu\n",
    "- The activation of the output layer is a Softmax\n",
    "- The loss function is a categorical cross-entropy funtion\n",
    "- The optimizer of this model is RMSProp"
   ]
  },
  {
   "cell_type": "markdown",
   "metadata": {},
   "source": [
    "### Create Model"
   ]
  },
  {
   "cell_type": "markdown",
   "metadata": {},
   "source": [
    "Create the above neural network architecture."
   ]
  },
  {
   "cell_type": "code",
   "execution_count": 6,
   "metadata": {},
   "outputs": [],
   "source": [
    "'''implement your code'''\n",
    "from keras.models import Sequential\n",
    "from keras.layers import Dense, LSTM\n",
    "from keras.layers.embeddings import Embedding\n",
    "\n",
    "model = Sequential()\n",
    "model.add(Embedding(len(word_index) + 1, \n",
    "                    50, \n",
    "                    weights = [embedding_matrix], \n",
    "                    input_length=45, \n",
    "                    trainable = False))\n",
    "model.add(LSTM(200))\n",
    "model.add(Dense(100, activation='relu'))\n",
    "model.add(Dense(3, activation='softmax'))\n",
    "model.compile(loss='categorical_crossentropy',\n",
    "              optimizer='rmsprop', \n",
    "              metrics=['accuracy'])"
   ]
  },
  {
   "cell_type": "markdown",
   "metadata": {},
   "source": [
    "### Training"
   ]
  },
  {
   "cell_type": "markdown",
   "metadata": {},
   "source": [
    "Train your model on the training dataset."
   ]
  },
  {
   "cell_type": "code",
   "execution_count": 7,
   "metadata": {},
   "outputs": [
    {
     "name": "stdout",
     "output_type": "stream",
     "text": [
      "Train on 212 samples, validate on 847 samples\n",
      "Epoch 1/100\n",
      "212/212 [==============================] - 1s 5ms/step - loss: 1.0621 - acc: 0.4953 - val_loss: 1.1638 - val_acc: 0.4250\n",
      "Epoch 2/100\n",
      "212/212 [==============================] - 0s 2ms/step - loss: 0.9483 - acc: 0.5755 - val_loss: 0.9065 - val_acc: 0.5584\n",
      "Epoch 3/100\n",
      "212/212 [==============================] - 0s 2ms/step - loss: 0.8219 - acc: 0.6368 - val_loss: 0.8789 - val_acc: 0.5998\n",
      "Epoch 4/100\n",
      "212/212 [==============================] - 0s 2ms/step - loss: 0.6812 - acc: 0.7453 - val_loss: 0.7817 - val_acc: 0.6883\n",
      "Epoch 5/100\n",
      "212/212 [==============================] - 0s 2ms/step - loss: 0.5804 - acc: 0.7689 - val_loss: 0.6937 - val_acc: 0.7155\n",
      "Epoch 6/100\n",
      "212/212 [==============================] - 0s 2ms/step - loss: 0.6376 - acc: 0.7642 - val_loss: 0.6812 - val_acc: 0.7261\n",
      "Epoch 7/100\n",
      "212/212 [==============================] - 0s 2ms/step - loss: 0.5102 - acc: 0.8019 - val_loss: 0.6747 - val_acc: 0.7285\n",
      "Epoch 8/100\n",
      "212/212 [==============================] - 0s 2ms/step - loss: 0.4012 - acc: 0.8632 - val_loss: 0.8563 - val_acc: 0.7013\n",
      "Epoch 9/100\n",
      "212/212 [==============================] - 0s 2ms/step - loss: 0.4164 - acc: 0.8491 - val_loss: 0.9357 - val_acc: 0.6942\n",
      "Epoch 10/100\n",
      "212/212 [==============================] - 0s 2ms/step - loss: 0.4755 - acc: 0.8349 - val_loss: 0.7181 - val_acc: 0.7202\n",
      "Epoch 11/100\n",
      "212/212 [==============================] - 0s 2ms/step - loss: 0.3532 - acc: 0.8774 - val_loss: 0.7033 - val_acc: 0.7355\n",
      "Epoch 12/100\n",
      "212/212 [==============================] - 0s 2ms/step - loss: 0.3072 - acc: 0.8821 - val_loss: 0.8467 - val_acc: 0.7084\n",
      "Epoch 13/100\n",
      "212/212 [==============================] - 0s 2ms/step - loss: 0.3061 - acc: 0.8726 - val_loss: 0.9288 - val_acc: 0.6623\n",
      "Epoch 14/100\n",
      "212/212 [==============================] - 0s 2ms/step - loss: 0.2494 - acc: 0.9151 - val_loss: 0.8012 - val_acc: 0.7166\n",
      "Epoch 15/100\n",
      "212/212 [==============================] - 0s 2ms/step - loss: 0.2835 - acc: 0.8868 - val_loss: 0.7679 - val_acc: 0.7178\n",
      "Epoch 16/100\n",
      "212/212 [==============================] - 0s 2ms/step - loss: 0.1641 - acc: 0.9340 - val_loss: 1.4784 - val_acc: 0.6777\n",
      "Epoch 17/100\n",
      "212/212 [==============================] - 0s 2ms/step - loss: 0.2355 - acc: 0.9151 - val_loss: 0.9170 - val_acc: 0.7202\n",
      "Epoch 18/100\n",
      "212/212 [==============================] - 0s 2ms/step - loss: 0.1081 - acc: 0.9670 - val_loss: 1.3605 - val_acc: 0.6860\n",
      "Epoch 19/100\n",
      "212/212 [==============================] - 0s 2ms/step - loss: 0.3971 - acc: 0.8632 - val_loss: 0.8326 - val_acc: 0.6883\n",
      "Epoch 20/100\n",
      "212/212 [==============================] - 0s 2ms/step - loss: 0.1384 - acc: 0.9623 - val_loss: 0.8658 - val_acc: 0.7060\n",
      "Epoch 21/100\n",
      "212/212 [==============================] - 0s 2ms/step - loss: 0.0798 - acc: 0.9764 - val_loss: 1.0124 - val_acc: 0.7060\n",
      "Epoch 22/100\n",
      "212/212 [==============================] - 0s 2ms/step - loss: 0.0826 - acc: 0.9717 - val_loss: 1.0749 - val_acc: 0.6919\n",
      "Epoch 23/100\n",
      "212/212 [==============================] - 0s 2ms/step - loss: 0.0510 - acc: 0.9858 - val_loss: 2.2003 - val_acc: 0.5455\n",
      "Epoch 24/100\n",
      "212/212 [==============================] - 0s 2ms/step - loss: 0.2727 - acc: 0.9151 - val_loss: 1.0307 - val_acc: 0.7143\n",
      "Epoch 25/100\n",
      "212/212 [==============================] - 0s 2ms/step - loss: 0.0406 - acc: 0.9953 - val_loss: 1.2377 - val_acc: 0.7037\n",
      "Epoch 26/100\n",
      "212/212 [==============================] - 0s 2ms/step - loss: 0.0231 - acc: 0.9953 - val_loss: 1.3529 - val_acc: 0.7178\n",
      "Epoch 27/100\n",
      "212/212 [==============================] - 0s 2ms/step - loss: 0.0161 - acc: 0.9953 - val_loss: 1.4847 - val_acc: 0.7273\n",
      "Epoch 28/100\n",
      "212/212 [==============================] - 0s 2ms/step - loss: 0.0110 - acc: 1.0000 - val_loss: 2.5001 - val_acc: 0.6671\n",
      "Epoch 29/100\n",
      "212/212 [==============================] - 0s 2ms/step - loss: 0.3108 - acc: 0.9104 - val_loss: 1.1102 - val_acc: 0.7261\n",
      "Epoch 30/100\n",
      "212/212 [==============================] - 0s 2ms/step - loss: 0.0227 - acc: 1.0000 - val_loss: 1.2617 - val_acc: 0.7155\n",
      "Epoch 31/100\n",
      "212/212 [==============================] - 0s 2ms/step - loss: 0.0114 - acc: 1.0000 - val_loss: 1.3806 - val_acc: 0.7178\n",
      "Epoch 32/100\n",
      "212/212 [==============================] - 0s 2ms/step - loss: 0.0070 - acc: 1.0000 - val_loss: 1.5067 - val_acc: 0.7119\n",
      "Epoch 33/100\n",
      "212/212 [==============================] - 0s 2ms/step - loss: 0.0047 - acc: 1.0000 - val_loss: 1.6499 - val_acc: 0.7013\n",
      "Epoch 34/100\n",
      "212/212 [==============================] - 0s 2ms/step - loss: 0.0028 - acc: 1.0000 - val_loss: 1.7566 - val_acc: 0.7037\n",
      "Epoch 35/100\n",
      "212/212 [==============================] - 0s 2ms/step - loss: 0.0018 - acc: 1.0000 - val_loss: 1.8602 - val_acc: 0.7072\n",
      "Epoch 36/100\n",
      "212/212 [==============================] - 0s 2ms/step - loss: 0.0011 - acc: 1.0000 - val_loss: 1.9711 - val_acc: 0.7048\n",
      "Epoch 37/100\n",
      "212/212 [==============================] - 0s 2ms/step - loss: 7.2111e-04 - acc: 1.0000 - val_loss: 2.1558 - val_acc: 0.7037\n",
      "Epoch 38/100\n",
      "212/212 [==============================] - 0s 2ms/step - loss: 4.3623e-04 - acc: 1.0000 - val_loss: 2.2606 - val_acc: 0.7084\n",
      "Epoch 39/100\n",
      "212/212 [==============================] - 0s 2ms/step - loss: 3.0016e-04 - acc: 1.0000 - val_loss: 2.4593 - val_acc: 0.6978\n",
      "Epoch 40/100\n",
      "212/212 [==============================] - 0s 2ms/step - loss: 1.7169e-04 - acc: 1.0000 - val_loss: 2.4819 - val_acc: 0.7084\n",
      "Epoch 41/100\n",
      "212/212 [==============================] - 0s 2ms/step - loss: 1.1079e-04 - acc: 1.0000 - val_loss: 2.7810 - val_acc: 0.6907\n",
      "Epoch 42/100\n",
      "212/212 [==============================] - 0s 2ms/step - loss: 6.7096e-05 - acc: 1.0000 - val_loss: 2.8194 - val_acc: 0.6978\n",
      "Epoch 43/100\n",
      "212/212 [==============================] - 0s 2ms/step - loss: 4.3230e-05 - acc: 1.0000 - val_loss: 2.8797 - val_acc: 0.6966\n",
      "Epoch 44/100\n",
      "212/212 [==============================] - 0s 2ms/step - loss: 3.0794e-05 - acc: 1.0000 - val_loss: 2.9715 - val_acc: 0.6930\n",
      "Epoch 45/100\n",
      "212/212 [==============================] - 0s 2ms/step - loss: 2.1177e-05 - acc: 1.0000 - val_loss: 3.0394 - val_acc: 0.6954\n",
      "Epoch 46/100\n",
      "212/212 [==============================] - 0s 2ms/step - loss: 0.2511 - acc: 0.9811 - val_loss: 3.7921 - val_acc: 0.6564\n",
      "Epoch 47/100\n",
      "212/212 [==============================] - 0s 2ms/step - loss: 0.2558 - acc: 0.9575 - val_loss: 1.7129 - val_acc: 0.7072\n",
      "Epoch 48/100\n",
      "212/212 [==============================] - 0s 2ms/step - loss: 0.0049 - acc: 1.0000 - val_loss: 1.7896 - val_acc: 0.7072\n",
      "Epoch 49/100\n",
      "212/212 [==============================] - 0s 2ms/step - loss: 0.0018 - acc: 1.0000 - val_loss: 1.8109 - val_acc: 0.7084\n",
      "Epoch 50/100\n",
      "212/212 [==============================] - 0s 2ms/step - loss: 0.0014 - acc: 1.0000 - val_loss: 1.8405 - val_acc: 0.7072\n",
      "Epoch 51/100\n",
      "212/212 [==============================] - 0s 2ms/step - loss: 0.0010 - acc: 1.0000 - val_loss: 1.8872 - val_acc: 0.7060\n",
      "Epoch 52/100\n",
      "212/212 [==============================] - 0s 2ms/step - loss: 7.5129e-04 - acc: 1.0000 - val_loss: 1.9375 - val_acc: 0.7048\n",
      "Epoch 53/100\n",
      "212/212 [==============================] - 0s 2ms/step - loss: 5.5828e-04 - acc: 1.0000 - val_loss: 1.9882 - val_acc: 0.7001\n",
      "Epoch 54/100\n",
      "212/212 [==============================] - 0s 2ms/step - loss: 4.1266e-04 - acc: 1.0000 - val_loss: 2.0354 - val_acc: 0.6978\n",
      "Epoch 55/100\n",
      "212/212 [==============================] - 0s 2ms/step - loss: 2.9740e-04 - acc: 1.0000 - val_loss: 2.0919 - val_acc: 0.6989\n",
      "Epoch 56/100\n",
      "212/212 [==============================] - 0s 2ms/step - loss: 2.1420e-04 - acc: 1.0000 - val_loss: 2.1710 - val_acc: 0.6954\n",
      "Epoch 57/100\n",
      "212/212 [==============================] - 0s 2ms/step - loss: 1.5419e-04 - acc: 1.0000 - val_loss: 2.2434 - val_acc: 0.6966\n",
      "Epoch 58/100\n",
      "212/212 [==============================] - 0s 2ms/step - loss: 1.1278e-04 - acc: 1.0000 - val_loss: 2.3028 - val_acc: 0.6942\n",
      "Epoch 59/100\n",
      "212/212 [==============================] - 0s 2ms/step - loss: 8.0748e-05 - acc: 1.0000 - val_loss: 2.3960 - val_acc: 0.7001\n",
      "Epoch 60/100\n",
      "212/212 [==============================] - 0s 2ms/step - loss: 5.9683e-05 - acc: 1.0000 - val_loss: 2.4704 - val_acc: 0.7001\n",
      "Epoch 61/100\n",
      "212/212 [==============================] - 0s 2ms/step - loss: 4.1275e-05 - acc: 1.0000 - val_loss: 2.5394 - val_acc: 0.7037\n",
      "Epoch 62/100\n",
      "212/212 [==============================] - 0s 2ms/step - loss: 2.9246e-05 - acc: 1.0000 - val_loss: 2.6183 - val_acc: 0.7072\n",
      "Epoch 63/100\n",
      "212/212 [==============================] - 0s 2ms/step - loss: 2.0514e-05 - acc: 1.0000 - val_loss: 2.6367 - val_acc: 0.7037\n",
      "Epoch 64/100\n",
      "212/212 [==============================] - 0s 2ms/step - loss: 1.4293e-05 - acc: 1.0000 - val_loss: 2.7484 - val_acc: 0.7025\n",
      "Epoch 65/100\n",
      "212/212 [==============================] - 0s 2ms/step - loss: 9.6905e-06 - acc: 1.0000 - val_loss: 2.8679 - val_acc: 0.7001\n",
      "Epoch 66/100\n",
      "212/212 [==============================] - 0s 2ms/step - loss: 6.7477e-06 - acc: 1.0000 - val_loss: 2.9362 - val_acc: 0.7048\n",
      "Epoch 67/100\n",
      "212/212 [==============================] - 0s 2ms/step - loss: 4.4201e-06 - acc: 1.0000 - val_loss: 3.0208 - val_acc: 0.7025\n",
      "Epoch 68/100\n",
      "212/212 [==============================] - 0s 2ms/step - loss: 3.1251e-06 - acc: 1.0000 - val_loss: 3.0394 - val_acc: 0.7072\n",
      "Epoch 69/100\n",
      "212/212 [==============================] - 0s 2ms/step - loss: 2.2012e-06 - acc: 1.0000 - val_loss: 3.1483 - val_acc: 0.7025\n",
      "Epoch 70/100\n",
      "212/212 [==============================] - 0s 2ms/step - loss: 1.5593e-06 - acc: 1.0000 - val_loss: 3.1455 - val_acc: 0.7060\n",
      "Epoch 71/100\n",
      "212/212 [==============================] - 0s 2ms/step - loss: 1.0920e-06 - acc: 1.0000 - val_loss: 3.2720 - val_acc: 0.7048\n",
      "Epoch 72/100\n",
      "212/212 [==============================] - 0s 2ms/step - loss: 7.7402e-07 - acc: 1.0000 - val_loss: 3.2786 - val_acc: 0.7037\n",
      "Epoch 73/100\n",
      "212/212 [==============================] - 0s 2ms/step - loss: 5.7103e-07 - acc: 1.0000 - val_loss: 3.4053 - val_acc: 0.6966\n",
      "Epoch 74/100\n",
      "212/212 [==============================] - 0s 2ms/step - loss: 4.2848e-07 - acc: 1.0000 - val_loss: 3.3345 - val_acc: 0.7013\n",
      "Epoch 75/100\n",
      "212/212 [==============================] - 0s 2ms/step - loss: 3.4217e-07 - acc: 1.0000 - val_loss: 3.4232 - val_acc: 0.7037\n",
      "Epoch 76/100\n",
      "212/212 [==============================] - 0s 2ms/step - loss: 3.0168e-07 - acc: 1.0000 - val_loss: 3.8929 - val_acc: 0.6730\n",
      "Epoch 77/100\n",
      "212/212 [==============================] - 0s 2ms/step - loss: 1.2273 - acc: 0.8491 - val_loss: 1.9316 - val_acc: 0.6694\n",
      "Epoch 78/100\n",
      "212/212 [==============================] - 0s 2ms/step - loss: 0.0199 - acc: 0.9906 - val_loss: 2.1248 - val_acc: 0.6907\n",
      "Epoch 79/100\n",
      "212/212 [==============================] - 0s 2ms/step - loss: 0.0049 - acc: 1.0000 - val_loss: 2.0086 - val_acc: 0.6978\n",
      "Epoch 80/100\n",
      "212/212 [==============================] - 0s 2ms/step - loss: 0.0013 - acc: 1.0000 - val_loss: 2.0062 - val_acc: 0.6966\n",
      "Epoch 81/100\n",
      "212/212 [==============================] - 0s 2ms/step - loss: 9.1292e-04 - acc: 1.0000 - val_loss: 2.0174 - val_acc: 0.6954\n",
      "Epoch 82/100\n",
      "212/212 [==============================] - 0s 2ms/step - loss: 6.9164e-04 - acc: 1.0000 - val_loss: 2.0384 - val_acc: 0.6978\n",
      "Epoch 83/100\n",
      "212/212 [==============================] - 0s 2ms/step - loss: 5.1174e-04 - acc: 1.0000 - val_loss: 2.0525 - val_acc: 0.6989\n",
      "Epoch 84/100\n",
      "212/212 [==============================] - 0s 2ms/step - loss: 3.7945e-04 - acc: 1.0000 - val_loss: 2.0821 - val_acc: 0.7013\n",
      "Epoch 85/100\n",
      "212/212 [==============================] - 0s 2ms/step - loss: 2.8020e-04 - acc: 1.0000 - val_loss: 2.1141 - val_acc: 0.7025\n",
      "Epoch 86/100\n",
      "212/212 [==============================] - 0s 2ms/step - loss: 2.0953e-04 - acc: 1.0000 - val_loss: 2.1485 - val_acc: 0.7048\n",
      "Epoch 87/100\n",
      "212/212 [==============================] - 0s 2ms/step - loss: 1.5376e-04 - acc: 1.0000 - val_loss: 2.1881 - val_acc: 0.7048\n",
      "Epoch 88/100\n",
      "212/212 [==============================] - 0s 2ms/step - loss: 1.1053e-04 - acc: 1.0000 - val_loss: 2.2186 - val_acc: 0.7048\n",
      "Epoch 89/100\n",
      "212/212 [==============================] - 0s 2ms/step - loss: 8.0106e-05 - acc: 1.0000 - val_loss: 2.2595 - val_acc: 0.7060\n",
      "Epoch 90/100\n",
      "212/212 [==============================] - 0s 2ms/step - loss: 5.7808e-05 - acc: 1.0000 - val_loss: 2.2971 - val_acc: 0.7096\n",
      "Epoch 91/100\n",
      "212/212 [==============================] - 0s 2ms/step - loss: 3.9977e-05 - acc: 1.0000 - val_loss: 2.3708 - val_acc: 0.7013\n",
      "Epoch 92/100\n",
      "212/212 [==============================] - 0s 2ms/step - loss: 2.9453e-05 - acc: 1.0000 - val_loss: 2.4083 - val_acc: 0.7013\n",
      "Epoch 93/100\n",
      "212/212 [==============================] - 0s 2ms/step - loss: 2.0392e-05 - acc: 1.0000 - val_loss: 2.4409 - val_acc: 0.7025\n",
      "Epoch 94/100\n",
      "212/212 [==============================] - 0s 2ms/step - loss: 1.3674e-05 - acc: 1.0000 - val_loss: 2.4726 - val_acc: 0.7037\n",
      "Epoch 95/100\n",
      "212/212 [==============================] - 0s 2ms/step - loss: 1.0191e-05 - acc: 1.0000 - val_loss: 2.5306 - val_acc: 0.6989\n",
      "Epoch 96/100\n",
      "212/212 [==============================] - 0s 2ms/step - loss: 6.4681e-06 - acc: 1.0000 - val_loss: 2.5588 - val_acc: 0.7025\n",
      "Epoch 97/100\n",
      "212/212 [==============================] - 0s 2ms/step - loss: 4.7235e-06 - acc: 1.0000 - val_loss: 2.6050 - val_acc: 0.7001\n",
      "Epoch 98/100\n",
      "212/212 [==============================] - 0s 2ms/step - loss: 3.2766e-06 - acc: 1.0000 - val_loss: 2.6628 - val_acc: 0.7025\n",
      "Epoch 99/100\n",
      "212/212 [==============================] - 0s 2ms/step - loss: 2.3361e-06 - acc: 1.0000 - val_loss: 2.6966 - val_acc: 0.7013\n",
      "Epoch 100/100\n",
      "212/212 [==============================] - 0s 2ms/step - loss: 1.6133e-06 - acc: 1.0000 - val_loss: 2.7338 - val_acc: 0.7013\n"
     ]
    }
   ],
   "source": [
    "'''implement your code'''\n",
    "history = model.fit(x_train, y_train, validation_data=(x_val, y_val), epochs=100, batch_size=32)"
   ]
  },
  {
   "cell_type": "markdown",
   "metadata": {},
   "source": [
    "### Validation"
   ]
  },
  {
   "cell_type": "markdown",
   "metadata": {},
   "source": [
    "Test your model on the validation and compute the F-measure and accuracy."
   ]
  },
  {
   "cell_type": "code",
   "execution_count": 8,
   "metadata": {},
   "outputs": [
    {
     "name": "stdout",
     "output_type": "stream",
     "text": [
      "Accuracy =  0.7012987015801873\n"
     ]
    }
   ],
   "source": [
    "'''implement your code'''\n",
    "pred = model.predict(x_val)\n",
    "loss, accuracy = model.evaluate(x_val, y_val, verbose=0)\n",
    "print(\"Accuracy = \", accuracy)"
   ]
  },
  {
   "cell_type": "markdown",
   "metadata": {},
   "source": [
    "## Exercise 2"
   ]
  },
  {
   "cell_type": "markdown",
   "metadata": {},
   "source": [
    "### Random Search"
   ]
  },
  {
   "cell_type": "markdown",
   "metadata": {},
   "source": [
    "Write the random search function. You will use the random search method in exercise 3 to find the best hyperparameters."
   ]
  },
  {
   "cell_type": "code",
   "execution_count": 9,
   "metadata": {},
   "outputs": [],
   "source": [
    "'''implement your code'''\n",
    "from sklearn.model_selection import RandomizedSearchCV\n",
    "from keras.wrappers.scikit_learn import KerasClassifier\n",
    "from keras.models import Sequential\n",
    "from keras.layers import Dense, LSTM\n",
    "from keras.layers.embeddings import Embedding\n",
    "\n",
    "def createmodel():\n",
    "    model = Sequential()\n",
    "    model.add(Embedding(len(word_index) + 1,\n",
    "                        50,\n",
    "                        weights = [embedding_matrix],\n",
    "                        input_length=45,\n",
    "                        trainable = False))\n",
    "    model.add(LSTM(200))\n",
    "    model.add(Dense(100, activation='relu'))\n",
    "    model.add(Dense(3, activation='softmax'))\n",
    "    model.compile(loss='categorical_crossentropy',\n",
    "                  optimizer='rmsprop',\n",
    "                  metrics=['accuracy'])\n",
    "    return model\n",
    "\n",
    "def randomsearch(param_grid):\n",
    "    clf = KerasClassifier(build_fn=createmodel, epochs=100, batch_size=32, verbose=0)\n",
    "    rs = RandomizedSearchCV(estimator = clf, param_distributions = param_grid, n_jobs=-1)\n",
    "    return rs"
   ]
  },
  {
   "cell_type": "markdown",
   "metadata": {},
   "source": [
    "## Exercise 3"
   ]
  },
  {
   "cell_type": "markdown",
   "metadata": {},
   "source": [
    "### Hyperparameters Tuning"
   ]
  },
  {
   "cell_type": "markdown",
   "metadata": {},
   "source": [
    "You will tune the hyperparameters of the above architecture using random search by validating on the validation dataset.\n",
    "\n",
    "Plot the learning curve of the best model (loss versus number\n",
    "of epochs). You should show both the training loss and the validation loss.\n",
    "\n",
    "You should also report the values of the hyperparameters of your best model and the validation accuracy and F-measure.  \n",
    "\n",
    "The hyperparameters that need to be tuned are:\n",
    "- Learning rates\n",
    "- Dropout\n",
    "- Number of hidden units\n",
    "- Mini-batch size\n",
    "- Learning rate decay\n",
    "- Number of layers\n",
    "- Type of layers"
   ]
  },
  {
   "cell_type": "code",
   "execution_count": null,
   "metadata": {},
   "outputs": [],
   "source": [
    "'''implement your code'''\n",
    "from sklearn import preprocessing\n",
    "\n",
    "learn_rate = [0.001, 0.01, 0.1, 0.2, 0.3]\n",
    "dropout_rate = [0.0, 0.1]\n",
    "param_grid = dict(learn_rate=learn_rate, dropout_rate=dropout_rate)\n",
    "\n",
    "normalized_X = preprocessing.normalize(x_train)\n",
    "normalized_y = preprocessing.normalize(y_train)\n",
    "\n",
    "rs = randomsearch(param_grid)\n",
    "rs.fit(normalized_X, normalized_y)"
   ]
  },
  {
   "cell_type": "code",
   "execution_count": null,
   "metadata": {},
   "outputs": [],
   "source": [
    "from sklearn import metrics\n",
    "pred = rs.best_estimator_.predict(x_val)\n",
    "accuracy = sklearn.metrics.accuracy_score(y_val, pred)\n",
    "fscore = sklearn.metrics.f1_score(y_val, pred, average='macro')\n",
    "print(\"Accuracy = \", accuracy)\n",
    "print(\"F score = \", fscore)"
   ]
  },
  {
   "cell_type": "markdown",
   "metadata": {
    "collapsed": true
   },
   "source": [
    "### Testing"
   ]
  },
  {
   "cell_type": "markdown",
   "metadata": {},
   "source": [
    "Test your best model on the testing data, and report the F-measure and accuracy."
   ]
  },
  {
   "cell_type": "code",
   "execution_count": null,
   "metadata": {},
   "outputs": [],
   "source": [
    "'''implement your code'''\n",
    "from sklearn import metrics\n",
    "tid = []\n",
    "tweet = []\n",
    "label = []\n",
    "with open('test.csv', encoding='latin1', newline='') as csvfile:\n",
    "    for rec in csv.reader(csvfile, delimiter=','):\n",
    "        tid.append(int(rec[0][1:-1]))\n",
    "        tweet.append(rec[1])\n",
    "        if(rec[2] == 'caution and advice'):\n",
    "            label.append(0)\n",
    "        elif(rec[2] == 'infromation source'):\n",
    "            label.append(1)\n",
    "        elif(rec[2] == 'casualities and damage'):\n",
    "            label.append(-1)\n",
    "        else:\n",
    "            label.append(2)\n",
    "            \n",
    "tokenizer = Tokenizer()\n",
    "tokenizer.fit_on_texts(tweet)\n",
    "sequences = tokenizer.texts_to_sequences(tweet)\n",
    "\n",
    "word_index = tokenizer.word_index\n",
    "print('Found %s unique tokens.' % len(word_index))\n",
    "\n",
    "data = pad_sequences(sequences)\n",
    "\n",
    "label = to_categorical(np.asarray(label))\n",
    "print('Shape of data tensor:', data.shape)\n",
    "print('Shape of label tensor:', label.shape)\n",
    "\n",
    "# split the data into a training set and a validation set\n",
    "indices = np.arange(data.shape[0])\n",
    "np.random.shuffle(indices)\n",
    "data = data[indices]\n",
    "label = label[indices]\n",
    "        \n",
    "pred = rs.best_estimator_.predict(data)\n",
    "accuracy = sklearn.metrics.accuracy_score(label, pred)\n",
    "fscore = sklearn.metrics.f1_score(label, pred, average='macro')\n",
    "print(\"Accuracy = \", accuracy)\n",
    "print(\"F score = \", fscore)"
   ]
  },
  {
   "cell_type": "markdown",
   "metadata": {},
   "source": [
    "Rename the jupyter notebook to Assignment8_*netid*.ipynb (Assignment8_xyz01.ipynb) and upload it on Moodle no later than Wednesday, Nov 28 11:55 pm."
   ]
  },
  {
   "cell_type": "code",
   "execution_count": null,
   "metadata": {
    "collapsed": true
   },
   "outputs": [],
   "source": []
  }
 ],
 "metadata": {
  "kernelspec": {
   "display_name": "Python 3",
   "language": "python",
   "name": "python3"
  },
  "language_info": {
   "codemirror_mode": {
    "name": "ipython",
    "version": 3
   },
   "file_extension": ".py",
   "mimetype": "text/x-python",
   "name": "python",
   "nbconvert_exporter": "python",
   "pygments_lexer": "ipython3",
   "version": "3.6.5"
  }
 },
 "nbformat": 4,
 "nbformat_minor": 2
}
